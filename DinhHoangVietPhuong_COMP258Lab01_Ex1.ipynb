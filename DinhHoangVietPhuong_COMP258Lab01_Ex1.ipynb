{
 "cells": [
  {
   "cell_type": "code",
   "execution_count": 1,
   "id": "65c68e3a",
   "metadata": {},
   "outputs": [],
   "source": [
    "# Dinh Hoang Viet Phuong - 301123263"
   ]
  },
  {
   "cell_type": "code",
   "execution_count": 2,
   "id": "b1563dda",
   "metadata": {},
   "outputs": [],
   "source": [
    "import numpy as np"
   ]
  },
  {
   "cell_type": "code",
   "execution_count": 3,
   "id": "d2597161",
   "metadata": {},
   "outputs": [],
   "source": [
    "# Define the step function for the perceptron\n",
    "def step_function(x):\n",
    "    return 1 if x >= 0 else -1"
   ]
  },
  {
   "cell_type": "code",
   "execution_count": 4,
   "id": "3f7de5c2",
   "metadata": {},
   "outputs": [],
   "source": [
    "# Train the perceptron\n",
    "def train_perceptron(X, Y, epochs=100, learning_rate=0.1):\n",
    "    weights = np.zeros(X.shape[1])\n",
    "    for epoch in range(epochs):\n",
    "        for x, y in zip(X, Y):\n",
    "            update = learning_rate * (y - step_function(np.dot(x, weights)))\n",
    "            weights += update * x\n",
    "    return weights\n",
    "def predict_perceptron(X, weights):\n",
    "    return [step_function(np.dot(x, weights)) for x in X]"
   ]
  },
  {
   "cell_type": "code",
   "execution_count": 5,
   "id": "bc5abf7d",
   "metadata": {},
   "outputs": [],
   "source": [
    "# Train ADALINE\n",
    "def train_adaline(X, Y, epochs=100, learning_rate=0.1):\n",
    "    weights = np.zeros(X.shape[1])\n",
    "    for epoch in range(epochs):\n",
    "        for x, y in zip(X, Y):\n",
    "            update = learning_rate * (y - np.dot(x, weights))\n",
    "            weights += update * x\n",
    "    return weights\n",
    "def predict_adaline(X, weights):\n",
    "    return [step_function(np.dot(x, weights)) for x in X]"
   ]
  },
  {
   "cell_type": "code",
   "execution_count": 6,
   "id": "a935ae0e",
   "metadata": {},
   "outputs": [],
   "source": [
    "# Noise to the data\n",
    "def add_noise(data, num_noisy_pixels):\n",
    "    noisy_data = data.copy()\n",
    "    for i in range(len(data)):\n",
    "        noise_indices = np.random.choice(len(data[i]), num_noisy_pixels, replace=False)\n",
    "        noisy_data[i][noise_indices] = noisy_data[i][noise_indices] * -1\n",
    "    return noisy_data"
   ]
  },
  {
   "cell_type": "code",
   "execution_count": 7,
   "id": "99324564",
   "metadata": {},
   "outputs": [],
   "source": [
    "# Convert the patterns to bipolar\n",
    "def to_bipolar(pattern):\n",
    "    return np.array([x - 1 for x in pattern])"
   ]
  },
  {
   "cell_type": "code",
   "execution_count": 8,
   "id": "f74508a7",
   "metadata": {},
   "outputs": [],
   "source": [
    "C = np.array([-1,-1,1,1,1,1,1,\n",
    "              -1,1,-1,-1,-1,-1,1,\n",
    "              1,-1,-1,-1,-1,-1,-1,\n",
    "              1,-1,-1,-1,-1,-1,-1,\n",
    "              1,-1,-1,-1,-1,-1,-1,\n",
    "              1,-1,-1,-1,-1,-1,-1,\n",
    "              1,-1,-1,-1,-1,-1,-1,\n",
    "              -1,1,-1,-1,-1,-1,1,\n",
    "              -1,-1,1,1,1,1,-1])\n",
    "\n",
    "not_C = np.array([1,1,1,1,1,-1,-1,\n",
    "                  -1,1,-1,-1,-1,1,-1,\n",
    "                  -1,1,-1,-1,-1,-1,1,\n",
    "                  -1,1,-1,-1,-1,-1,1,\n",
    "                  -1,1,-1,-1,-1,-1,1,\n",
    "                  -1,1,-1,-1,-1,-1,1,\n",
    "                  -1,1,-1,-1,-1,-1,1,\n",
    "                  -1,1,-1,-1,-1,1,-1,\n",
    "                  1,1,1,1,1,-1,-1])"
   ]
  },
  {
   "cell_type": "code",
   "execution_count": 9,
   "id": "9e23cf7f",
   "metadata": {},
   "outputs": [],
   "source": [
    "# Convert to bipolar\n",
    "C_bipolar = to_bipolar(C)\n",
    "not_C_bipolar = to_bipolar(not_C)"
   ]
  },
  {
   "cell_type": "code",
   "execution_count": 10,
   "id": "9a456527",
   "metadata": {},
   "outputs": [],
   "source": [
    "# Convert X into a numpy array for shape attribute\n",
    "X = np.array([C_bipolar, not_C_bipolar])\n",
    "Y = np.array([1, -1])  # 1 for C and -1 for not_C"
   ]
  },
  {
   "cell_type": "code",
   "execution_count": 11,
   "id": "124d3cc0",
   "metadata": {},
   "outputs": [],
   "source": [
    "# Train perceptron and ADALINE\n",
    "perceptron_weights = train_perceptron(X, Y)\n",
    "adaline_weights = train_adaline(X, Y)"
   ]
  },
  {
   "cell_type": "code",
   "execution_count": 12,
   "id": "e1ab03a3",
   "metadata": {},
   "outputs": [
    {
     "name": "stdout",
     "output_type": "stream",
     "text": [
      "\n",
      "Noise Level: 5 pixels\n",
      "Perceptron predictions: [1, -1]\n",
      "ADALINE predictions: [-1, -1]\n",
      "\n",
      "Noise Level: 10 pixels\n",
      "Perceptron predictions: [1, -1]\n",
      "ADALINE predictions: [-1, -1]\n",
      "\n",
      "Noise Level: 15 pixels\n",
      "Perceptron predictions: [1, -1]\n",
      "ADALINE predictions: [-1, -1]\n",
      "\n",
      "Noise Level: 20 pixels\n",
      "Perceptron predictions: [1, -1]\n",
      "ADALINE predictions: [-1, -1]\n"
     ]
    }
   ],
   "source": [
    "# Test with noisy data\n",
    "noise_levels = [5, 10, 15, 20]\n",
    "for noise in noise_levels:\n",
    "    noisy_X = add_noise(X, noise)\n",
    "    print(f\"\\nNoise Level: {noise} pixels\")\n",
    "    print(\"Perceptron predictions:\", predict_perceptron(noisy_X, perceptron_weights))\n",
    "    print(\"ADALINE predictions:\", predict_adaline(noisy_X, adaline_weights))"
   ]
  }
 ],
 "metadata": {
  "kernelspec": {
   "display_name": "Python 3 (ipykernel)",
   "language": "python",
   "name": "python3"
  },
  "language_info": {
   "codemirror_mode": {
    "name": "ipython",
    "version": 3
   },
   "file_extension": ".py",
   "mimetype": "text/x-python",
   "name": "python",
   "nbconvert_exporter": "python",
   "pygments_lexer": "ipython3",
   "version": "3.10.9"
  }
 },
 "nbformat": 4,
 "nbformat_minor": 5
}
